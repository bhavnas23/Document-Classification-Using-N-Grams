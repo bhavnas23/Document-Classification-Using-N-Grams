{
 "cells": [
  {
   "cell_type": "code",
   "execution_count": 1,
   "metadata": {},
   "outputs": [],
   "source": [
    "import numpy as np\n",
    "import re\n",
    "from nltk.stem import PorterStemmer\n",
    "from nltk.corpus import stopwords \n",
    "from sklearn.metrics import accuracy_score\n",
    "from sklearn.naive_bayes import GaussianNB\n",
    "from sklearn.model_selection import train_test_split\n",
    "import matplotlib.pyplot as plt\n",
    "import time"
   ]
  },
  {
   "cell_type": "code",
   "execution_count": 3,
   "metadata": {},
   "outputs": [],
   "source": [
    "#labels\n",
    "folder = [\"business\", \"entertainment\", \"politics\", \"sport\", \"tech\"]"
   ]
  },
  {
   "cell_type": "code",
   "execution_count": 4,
   "metadata": {},
   "outputs": [],
   "source": [
    "#loading data\n",
    "data=[]\n",
    "label=[]\n",
    "for s in folder:\n",
    "    for i in range(1,410):\n",
    "        path=\"D:\\\\project\\\\project\\\\data\\\\\" + s + \"\\\\\" + str(i).zfill(3) + \".txt\"\n",
    "        try:\n",
    "            f=open(path)\n",
    "            data.append(f.read())\n",
    "            label.append(folder.index(s))\n",
    "        except:\n",
    "            continue            "
   ]
  },
  {
   "cell_type": "code",
   "execution_count": 5,
   "metadata": {},
   "outputs": [
    {
     "name": "stdout",
     "output_type": "stream",
     "text": [
      "Ad sales boost Time Warner profit\n",
      "\n",
      "Quarterly profits at US media giant TimeWarner jumped 76% to $1.13bn (Â£600m) for the three months to December, from $639m year-earlier.\n",
      "\n",
      "The firm, which is now one of the biggest investors in Google, benefited from sales of high-speed internet connections and higher advert sales. TimeWarner said fourth quarter sales rose 2% to $11.1bn from $10.9bn. Its profits were buoyed by one-off gains which offset a profit dip at Warner Bros, and less users for AOL.\n",
      "\n",
      "Time Warner said on Friday that it now owns 8% of search-engine Google. But its own internet business, AOL, had has mixed fortunes. It lost 464,000 subscribers in the fourth quarter profits were lower than in the preceding three quarters. However, the company said AOL's underlying profit before exceptional items rose 8% on the back of stronger internet advertising revenues. It hopes to increase subscribers by offering the online service free to TimeWarner internet customers and will try to sign up AOL's existing customers for high-speed broadband. TimeWarner also has to restate 2000 and 2003 results following a probe by the US Securities Exchange Commission (SEC), which is close to concluding.\n",
      "\n",
      "Time Warner's fourth quarter profits were slightly better than analysts' expectations. But its film division saw profits slump 27% to $284m, helped by box-office flops Alexander and Catwoman, a sharp contrast to year-earlier, when the third and final film in the Lord of the Rings trilogy boosted results. For the full-year, TimeWarner posted a profit of $3.36bn, up 27% from its 2003 performance, while revenues grew 6.4% to $42.09bn. \"Our financial performance was strong, meeting or exceeding all of our full-year objectives and greatly enhancing our flexibility,\" chairman and chief executive Richard Parsons said. For 2005, TimeWarner is projecting operating earnings growth of around 5%, and also expects higher revenue and wider profit margins.\n",
      "\n",
      "TimeWarner is to restate its accounts as part of efforts to resolve an inquiry into AOL by US market regulators. It has already offered to pay $300m to settle charges, in a deal that is under review by the SEC. The company said it was unable to estimate the amount it needed to set aside for legal reserves, which it previously set at $500m. It intends to adjust the way it accounts for a deal with German music publisher Bertelsmann's purchase of a stake in AOL Europe, which it had reported as advertising revenue. It will now book the sale of its stake in AOL Europe as a loss on the value of that stake.\n",
      "\n"
     ]
    }
   ],
   "source": [
    "#before cleaning\n",
    "print(data[0])"
   ]
  },
  {
   "cell_type": "code",
   "execution_count": 6,
   "metadata": {},
   "outputs": [],
   "source": [
    "# Data Cleaning Steps:\n",
    "# 1. separate words and special characters by inserting spaces between them\n",
    "# 2. removing punctuation marks like '.', ',', '?', etc.\n",
    "# 3. removing stopwords (is, the, etc.)\n",
    "# 4. determing root word of each word"
   ]
  },
  {
   "cell_type": "code",
   "execution_count": 7,
   "metadata": {},
   "outputs": [],
   "source": [
    "\n",
    "rep = re.compile(\"(\\.)|(\\\\\\n)|(\\,)|(\\?)|(\\\\\\'s)|(\\\")|(\\')|(\\()|(\\))|(\\\\\\)|(\\-)\")"
   ]
  },
  {
   "cell_type": "code",
   "execution_count": 8,
   "metadata": {},
   "outputs": [],
   "source": [
    "\n",
    "stop_words = set(stopwords.words('english'))\n",
    "ps=PorterStemmer()\n",
    "for i in range(len(data)):\n",
    "    para=data[i]\n",
    "    para=para.lower()\n",
    "    para=rep.sub(\" \", para)\n",
    "    para=para.replace('$', \" $ \")\n",
    "    para=para.replace('%', \" % \")\n",
    "    para=re.sub('\\s\\s+', \" \", para)\n",
    "    words=para.split(' ')\n",
    "    \n",
    "    for j in range(len(words)):\n",
    "        if words[j] in stop_words:\n",
    "            words[j]=\"\"\n",
    "        else:\n",
    "            words[j]=ps.stem(words[j])        \n",
    "    \n",
    "    data[i]=' '.join(x for x in words)"
   ]
  },
  {
   "cell_type": "code",
   "execution_count": 9,
   "metadata": {},
   "outputs": [
    {
     "name": "stdout",
     "output_type": "stream",
     "text": [
      "ad sale boost time warner profit quarterli profit  us media giant timewarn jump 76 %  $ 1 13bn â£600m   three month  decemb  $ 639m year earlier  firm    one   biggest investor  googl benefit  sale  high speed internet connect  higher advert sale timewarn said fourth quarter sale rose 2 %  $ 11 1bn  $ 10 9bn  profit  buoy  one  gain  offset  profit dip  warner bro  less user  aol time warner said  friday    own 8 %  search engin googl    internet busi aol   mix fortun  lost 464 000 subscrib   fourth quarter profit  lower    preced three quarter howev  compani said aol underli profit  except item rose 8 %   back  stronger internet advertis revenu  hope  increas subscrib  offer  onlin servic free  timewarn internet custom   tri  sign  aol exist custom  high speed broadband timewarn also   restat 2000  2003 result follow  probe   us secur exchang commiss sec   close  conclud time warner fourth quarter profit  slightli better  analyst expect   film divis saw profit slump 27 %  $ 284m help  box offic flop alexand  catwoman  sharp contrast  year earlier   third  final film   lord   ring trilog boost result   full year timewarn post  profit  $ 3 36bn  27 %   2003 perform  revenu grew 6 4 %  $ 42 09bn  financi perform  strong meet  exceed    full year object  greatli enhanc  flexibl chairman  chief execut richard parson said  2005 timewarn  project oper earn growth  around 5 %  also expect higher revenu  wider profit margin timewarn   restat  account  part  effort  resolv  inquiri  aol  us market regul   alreadi offer  pay $ 300m  settl charg   deal    review   sec  compani said   unabl  estim  amount  need  set asid  legal reserv   previous set  $ 500m  intend  adjust  way  account   deal  german music publish bertelsmann purchas   stake  aol europ    report  advertis revenu    book  sale   stake  aol europ   loss   valu   stake \n"
     ]
    }
   ],
   "source": [
    "#after cleaning\n",
    "print(data[0])"
   ]
  },
  {
   "cell_type": "code",
   "execution_count": 16,
   "metadata": {},
   "outputs": [],
   "source": [
    "def data_process(gram_n, clf):\n",
    "  \n",
    "    def get_grams():\n",
    "        grams=list()\n",
    "        for i in range(len(words)-gram_n-1):\n",
    "            s=\"\"\n",
    "            for j in range(gram_n):\n",
    "                s=s+\" \"+words[i+j]\n",
    "            grams.append(s)\n",
    "        return grams\n",
    "\n",
    "    \n",
    "    \n",
    "    # generate grams and vocabulary\n",
    "    \n",
    "    vocab=dict()\n",
    "    vocab[\"START\"]=0\n",
    "    vocab[\"END\"]=1\n",
    "    vocab[\"PAD\"]=2\n",
    "    count=3\n",
    "    for doc in data:\n",
    "        words=doc.split()\n",
    "        grams=get_grams()\n",
    "        for seq in grams:\n",
    "            if seq not in vocab:\n",
    "                vocab[seq]=count\n",
    "                count+=1\n",
    "    yield len(vocab)\n",
    "\n",
    "    \n",
    "    # assign id to each word/gram\n",
    "    doc2id=list()\n",
    "    doc_len=dict()\n",
    "    for doc in data:\n",
    "        f=[vocab[\"START\"]]\n",
    "        words=doc.split()\n",
    "        grams=get_grams()\n",
    "        for seq in grams:\n",
    "            f.append(vocab[seq])\n",
    "        f.append(vocab[\"END\"])\n",
    "        if len(f) in doc_len:\n",
    "            doc_len[len(f)]+=1\n",
    "        else:\n",
    "            doc_len[len(f)]=1\n",
    "        doc2id.append(f)\n",
    "        \n",
    "    doc_len=dict(sorted(doc_len.items(), key=lambda x:x[0]))\n",
    "    \n",
    "    # determine the popular length which constitute length of 90% of documents\n",
    "    f=0\n",
    "    for k, v in doc_len.items():\n",
    "        doc_len[k]+=f\n",
    "        f=doc_len[k]\n",
    "    for k, v in doc_len.items():\n",
    "        doc_len[k]=v/f*100\n",
    "    \n",
    "    max_len=0\n",
    "    for key, value in doc_len.items():\n",
    "        if value>90:\n",
    "            max_len=key\n",
    "            break\n",
    "        else:\n",
    "            pass\n",
    "        \n",
    "    yield doc_len\n",
    "    yield max_len\n",
    "    \n",
    "    # truncate each doc to the determined max_len\n",
    "    for doc in doc2id:\n",
    "        for i in range(len(doc), max_len):\n",
    "            doc.append(vocab[\"PAD\"])\n",
    "        del doc[max_len:]\n",
    "    \n",
    "    \n",
    "    # treat them as features\n",
    "    features = np.array(doc2id)\n",
    "    labels=np.array(label)\n",
    "    \n",
    "    # split the data into train and test for 80:20 ratio\n",
    "    features_train, features_test, label_train, label_test = train_test_split(features, labels, test_size=0.2, random_state=0)\n",
    "    \n",
    "    #train the classifier\n",
    "    clf.fit(features_train, label_train)\n",
    "    \n",
    "    # prediction on test\n",
    "    pred = clf.predict(features_test)\n",
    "    \n",
    "    \n",
    "    # get the accuracy score\n",
    "    yield accuracy_score(label_test, pred)\n",
    "    \n",
    "    "
   ]
  },
  {
   "cell_type": "code",
   "execution_count": 17,
   "metadata": {},
   "outputs": [
    {
     "name": "stdout",
     "output_type": "stream",
     "text": [
      "1 46.40198511166253 1.671875\n",
      "2 81.38957816377172 2.484375\n",
      "3 90.81885856079404 3.09375\n",
      "4 91.06699751861042 2.96875\n",
      "5 91.06699751861042 3.3125\n",
      "6 91.3151364764268 3.09375\n",
      "7 91.06699751861042 3.078125\n",
      "8 91.06699751861042 3.234375\n",
      "9 91.06699751861042 3.71875\n",
      "10 91.06699751861042 4.0\n",
      "11 90.81885856079404 4.203125\n",
      "12 90.81885856079404 4.421875\n",
      "13 90.81885856079404 4.59375\n",
      "14 90.81885856079404 4.90625\n",
      "15 90.81885856079404 5.21875\n",
      "16 90.81885856079404 5.265625\n",
      "17 90.81885856079404 5.578125\n",
      "18 90.81885856079404 5.921875\n",
      "19 90.57071960297766 6.09375\n"
     ]
    }
   ],
   "source": [
    "#Naive Bayes\n",
    "gram_cnt = []\n",
    "accuracy = []\n",
    "time_req=[]\n",
    "NB = GaussianNB()\n",
    "for i in range(1, 20):\n",
    "    t=time.process_time()\n",
    "    vocab_len, doc_len, max_len, acc_score = data_process(i, NB)\n",
    "    et=time.process_time()-t\n",
    "    gram_cnt.append(i)\n",
    "    accuracy.append(acc_score*100)\n",
    "    time_req.append(et)\n",
    "    print(i, acc_score*100,et)"
   ]
  },
  {
   "cell_type": "code",
   "execution_count": 12,
   "metadata": {},
   "outputs": [
    {
     "data": {
      "text/plain": [
       "(0, 20)"
      ]
     },
     "execution_count": 12,
     "metadata": {},
     "output_type": "execute_result"
    },
    {
     "data": {
      "image/png": "[encoded data removed]",
      "text/plain": [
       "<Figure size 432x288 with 1 Axes>"
      ]
     },
     "metadata": {
      "needs_background": "light"
     },
     "output_type": "display_data"
    }
   ],
   "source": [
    "\n",
    "\n",
    "plt.plot(gram_cnt, accuracy, label='Accuracy')\n",
    "plt.xlabel(\"No of grams\")\n",
    "plt.ylabel(\"Accuracy\")\n",
    "plt.xlim(0,20)"
   ]
  },
  {
   "cell_type": "code",
   "execution_count": 13,
   "metadata": {},
   "outputs": [
    {
     "data": {
      "text/plain": [
       "(0, 20)"
      ]
     },
     "execution_count": 13,
     "metadata": {},
     "output_type": "execute_result"
    },
    {
     "data": {
      "image/png": "[encoded data removed]",
      "text/plain": [
       "<Figure size 432x288 with 1 Axes>"
      ]
     },
     "metadata": {
      "needs_background": "light"
     },
     "output_type": "display_data"
    }
   ],
   "source": [
    "plt.plot(gram_cnt, time_req, label='Time Required')\n",
    "plt.xlabel(\"No of grams\")\n",
    "plt.ylabel(\"Time Required in sec\")\n",
    "plt.xlim(0,20)"
   ]
  },
  {
   "cell_type": "code",
   "execution_count": null,
   "metadata": {},
   "outputs": [],
   "source": [
    "# Conclusions\n",
    "# Accuracy increases and then decreases as we increase number of grams\n",
    "# Time required increase with number of grams\n",
    "# Best accuracy is obtained for 6-Grams"
   ]
  }
 ],
 "metadata": {
  "kernelspec": {
   "display_name": "Python 3",
   "language": "python",
   "name": "python3"
  },
  "language_info": {
   "codemirror_mode": {
    "name": "ipython",
    "version": 3
   },
   "file_extension": ".py",
   "mimetype": "text/x-python",
   "name": "python",
   "nbconvert_exporter": "python",
   "pygments_lexer": "ipython3",
   "version": "3.7.6"
  }
 },
 "nbformat": 4,
 "nbformat_minor": 4
}
